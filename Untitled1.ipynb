{
 "cells": [
  {
   "cell_type": "code",
   "execution_count": 1,
   "metadata": {
    "colab": {
     "base_uri": "https://localhost:8080/"
    },
    "executionInfo": {
     "elapsed": 12,
     "status": "ok",
     "timestamp": 1653508047749,
     "user": {
      "displayName": "Ram Kumar",
      "userId": "11957991871316627040"
     },
     "user_tz": -330
    },
    "id": "2nEgemNDqNjo",
    "outputId": "43d8a794-1399-43f4-cbd3-a01636f08f6d"
   },
   "outputs": [
    {
     "name": "stdout",
     "output_type": "stream",
     "text": [
      "/content/drive/MyDrive/Colab Notebooks\n"
     ]
    }
   ],
   "source": [
    "cd /content/drive/MyDrive/Colab Notebooks"
   ]
  },
  {
   "cell_type": "code",
   "execution_count": 5,
   "metadata": {
    "colab": {
     "base_uri": "https://localhost:8080/"
    },
    "executionInfo": {
     "elapsed": 3707,
     "status": "ok",
     "timestamp": 1653508137750,
     "user": {
      "displayName": "Ram Kumar",
      "userId": "11957991871316627040"
     },
     "user_tz": -330
    },
    "id": "uqFob8CAw61l",
    "outputId": "54e16c77-068d-47e7-cce2-fc2d69314063"
   },
   "outputs": [
    {
     "name": "stdout",
     "output_type": "stream",
     "text": [
      "Looking in indexes: https://pypi.org/simple, https://us-python.pkg.dev/colab-wheels/public/simple/\n",
      "Requirement already satisfied: nltk in /usr/local/lib/python3.7/dist-packages (3.2.5)\n",
      "Requirement already satisfied: six in /usr/local/lib/python3.7/dist-packages (from nltk) (1.15.0)\n"
     ]
    }
   ],
   "source": [
    "pip install nltk"
   ]
  },
  {
   "cell_type": "code",
   "execution_count": 9,
   "metadata": {
    "colab": {
     "base_uri": "https://localhost:8080/"
    },
    "executionInfo": {
     "elapsed": 1032,
     "status": "ok",
     "timestamp": 1653508247180,
     "user": {
      "displayName": "Ram Kumar",
      "userId": "11957991871316627040"
     },
     "user_tz": -330
    },
    "id": "7NNEiJHmxXyv",
    "outputId": "cb7a61cc-44e7-4d9c-a5cc-b53dcf587374"
   },
   "outputs": [
    {
     "name": "stdout",
     "output_type": "stream",
     "text": [
      "[nltk_data] Downloading package punkt to /root/nltk_data...\n",
      "[nltk_data]   Unzipping tokenizers/punkt.zip.\n"
     ]
    },
    {
     "data": {
      "text/plain": [
       "True"
      ]
     },
     "execution_count": 9,
     "metadata": {},
     "output_type": "execute_result"
    }
   ],
   "source": [
    "import nltk\n",
    "nltk.download('punkt')"
   ]
  },
  {
   "cell_type": "code",
   "execution_count": 12,
   "metadata": {
    "colab": {
     "base_uri": "https://localhost:8080/"
    },
    "executionInfo": {
     "elapsed": 2288,
     "status": "ok",
     "timestamp": 1653508318758,
     "user": {
      "displayName": "Ram Kumar",
      "userId": "11957991871316627040"
     },
     "user_tz": -330
    },
    "id": "mxzEoUDOqgG2",
    "outputId": "185593c4-c748-48b2-b76d-f95a8c012d98"
   },
   "outputs": [
    {
     "name": "stdout",
     "output_type": "stream",
     "text": [
      "Cosine similarity between 'alice' and 'wonderland' - CBOW :  0.9995407\n",
      "Cosine similarity between 'alice' and 'machines' - CBOW :  0.9877856\n",
      "Cosine similarity between 'alice' and 'wonderland' - Skip Gram :  0.8648366\n",
      "Cosine similarity between 'alice' and 'machines' - Skip Gram :  0.8333844\n"
     ]
    }
   ],
   "source": [
    "# Python program to generate word vectors using Word2Vec\n",
    "\n",
    "# importing all necessary modules\n",
    "from nltk.tokenize import sent_tokenize, word_tokenize\n",
    "import warnings\n",
    "\n",
    "warnings.filterwarnings(action = 'ignore')\n",
    "\n",
    "import gensim\n",
    "from gensim.models import Word2Vec\n",
    "\n",
    "# Reads ‘alice.txt’ file\n",
    "sample = open(\"alice.txt\")\n",
    "s = sample.read()\n",
    "\n",
    "# Replaces escape character with space\n",
    "f = s.replace(\"\\n\", \" \")\n",
    "\n",
    "data = []\n",
    "\n",
    "# iterate through each sentence in the file\n",
    "for i in sent_tokenize(f):\n",
    "\ttemp = []\n",
    "\t\n",
    "\t# tokenize the sentence into words\n",
    "\tfor j in word_tokenize(i):\n",
    "\t\ttemp.append(j.lower())\n",
    "\n",
    "\tdata.append(temp)\n",
    "\n",
    "# Create CBOW model\n",
    "model1 = gensim.models.Word2Vec(data, min_count = 1,size = 100, window = 5)\n",
    "\n",
    "# Print results\n",
    "print(\"Cosine similarity between 'alice' \" +\n",
    "\t\t\t\"and 'wonderland' - CBOW : \",\n",
    "\tmodel1.wv.similarity('alice', 'wonderland'))\n",
    "\t\n",
    "print(\"Cosine similarity between 'alice' \" +\n",
    "\t\t\t\t\"and 'machines' - CBOW : \",\n",
    "\tmodel1.wv.similarity('alice', 'machines'))\n",
    "\n",
    "# Create Skip Gram model\n",
    "model2 = gensim.models.Word2Vec(data, min_count = 1, size = 100,\n",
    "\t\t\t\t\t\t\t\t\t\t\twindow = 5, sg = 1)\n",
    "\n",
    "# Print results\n",
    "print(\"Cosine similarity between 'alice' \" +\n",
    "\t\t\"and 'wonderland' - Skip Gram : \",\n",
    "\tmodel2.wv.similarity('alice', 'wonderland'))\n",
    "\t\n",
    "print(\"Cosine similarity between 'alice' \" +\n",
    "\t\t\t\"and 'machines' - Skip Gram : \",\n",
    "\tmodel2.wv.similarity('alice', 'machines'))\n"
   ]
  }
 ],
 "metadata": {
  "colab": {
   "authorship_tag": "ABX9TyM/VO79h44gpxDsnfd8Pd3J",
   "mount_file_id": "1t9euBYoRFNAlp8BgsMEJx8-pRI_02aQq",
   "name": "Untitled1.ipynb",
   "provenance": []
  },
  "kernelspec": {
   "display_name": "Python 3",
   "language": "python",
   "name": "python3"
  },
  "language_info": {
   "codemirror_mode": {
    "name": "ipython",
    "version": 3
   },
   "file_extension": ".py",
   "mimetype": "text/x-python",
   "name": "python",
   "nbconvert_exporter": "python",
   "pygments_lexer": "ipython3",
   "version": "3.8.8"
  }
 },
 "nbformat": 4,
 "nbformat_minor": 1
}
